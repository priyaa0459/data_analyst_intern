{
  "nbformat": 4,
  "nbformat_minor": 0,
  "metadata": {
    "colab": {
      "provenance": []
    },
    "kernelspec": {
      "name": "python3",
      "display_name": "Python 3"
    },
    "language_info": {
      "name": "python"
    }
  },
  "cells": [
    {
      "cell_type": "code",
      "execution_count": null,
      "metadata": {
        "id": "l4JzKBhSaDiu"
      },
      "outputs": [],
      "source": [
        "import random\n",
        "from datetime import datetime,timedelta\n",
        "import pandas as pd"
      ]
    },
    {
      "cell_type": "code",
      "source": [
        "products = [\n",
        "    {\"name\": \"Laptop\", \"category\": \"Electronics\", \"sub_category\": \"Computers\", \"price\": 55000},\n",
        "    {\"name\": \"Smartphone\", \"category\": \"Electronics\", \"sub_category\": \"Mobiles\", \"price\": 20000},\n",
        "    {\"name\": \"Desk Chair\", \"category\": \"Furniture\", \"sub_category\": \"Office\", \"price\": 4500},\n",
        "    {\"name\": \"Water Bottle\", \"category\": \"Home & Kitchen\", \"sub_category\": \"Kitchen\", \"price\": 299},\n",
        "    {\"name\": \"Bluetooth Speaker\", \"category\": \"Electronics\", \"sub_category\": \"Audio\", \"price\": 1499},\n",
        "    {\"name\": \"Running Shoes\", \"category\": \"Fashion\", \"sub_category\": \"Footwear\", \"price\": 3200},\n",
        "    {\"name\": \"Backpack\", \"category\": \"Accessories\", \"sub_category\": \"Bags\", \"price\": 999},\n",
        "    {\"name\": \"Smartwatch\", \"category\": \"Electronics\", \"sub_category\": \"Wearables\", \"price\": 7999}\n",
        "]\n",
        "\n",
        "regions = ['North', 'South', 'East', 'West']\n",
        "payment_methods = ['Credit Card', 'UPI', 'Net Banking', 'Cash on Delivery']\n",
        "delivery_statuses = ['Delivered', 'Shipped', 'Pending', 'Cancelled']"
      ],
      "metadata": {
        "id": "Bz30R4uagYjw"
      },
      "execution_count": null,
      "outputs": []
    },
    {
      "cell_type": "code",
      "source": [
        "def generate_order(order_id, order_time):\n",
        "    product = random.choice(products)\n",
        "    quantity = random.randint(1, 5)\n",
        "    return {\n",
        "        \"OrderID\": f\"ORD{order_id}\",\n",
        "        \"CustomerID\": f\"CUST{random.randint(1000,9999)}\",\n",
        "        \"Product\": product[\"name\"],\n",
        "        \"Category\": product[\"category\"],\n",
        "        \"SubCategory\": product[\"sub_category\"],\n",
        "        \"UnitPrice\": product[\"price\"],\n",
        "        \"Quantity\": quantity,\n",
        "        \"TotalSale\": quantity * product[\"price\"],\n",
        "        \"Region\": random.choice(regions),\n",
        "        \"PaymentMethod\": random.choice(payment_methods),\n",
        "        \"OrderDateTime\": order_time.strftime(\"%Y-%m-%d %H:%M:%S\"),\n",
        "        \"DeliveryStatus\": random.choice(delivery_statuses)\n",
        "    }"
      ],
      "metadata": {
        "id": "-W9BWgu0e82t"
      },
      "execution_count": null,
      "outputs": []
    },
    {
      "cell_type": "code",
      "source": [
        "def simulate_sales(order_count, filename=\"live_sales_data.csv\", start_id=1):\n",
        "    current_time = datetime(2024, 1, 1, 8, 0, 0)\n",
        "    orders = []\n",
        "\n",
        "    for i in range(start_id, start_id + order_count):\n",
        "        order = generate_order(i, current_time)\n",
        "        orders.append(order)\n",
        "\n",
        "        time_increment = timedelta(minutes=random.randint(15, 120))\n",
        "        current_time += time_increment\n",
        "\n",
        "    df = pd.DataFrame(orders)\n",
        "    df.to_csv(filename, index=False)\n",
        "    print(f\"{order_count} chronologically realistic orders saved to {filename}\")\n",
        "if __name__ == \"__main__\":\n",
        "    simulate_sales(order_count=10000)"
      ],
      "metadata": {
        "colab": {
          "base_uri": "https://localhost:8080/"
        },
        "id": "ecUbRXkIhHGN",
        "outputId": "006d2b68-6b55-470a-956e-da6363ff62c6"
      },
      "execution_count": null,
      "outputs": [
        {
          "output_type": "stream",
          "name": "stdout",
          "text": [
            "10000 chronologically realistic orders saved to live_sales_data.csv\n"
          ]
        }
      ]
    }
  ]
}